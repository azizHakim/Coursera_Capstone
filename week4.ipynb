{
 "cells": [
  {
   "cell_type": "markdown",
   "metadata": {},
   "source": [
    "# Business Problem\n",
    "New York is the most diverse city in the United States. The city manages to bring dishes from all over the world and make them it's own. Over the past few decades, food courts have become an important way of experiencing the cities diverse food culture at a reasonable price. This project aims to help any business person interested in opening a food court chain in New York City.\n",
    "\n",
    "New York is also rich in educational institutions. A lot of colleges and universities are located in this city. Our target customer will be the students of colleges and universities. Based on the location of different college places like administrative building, a college library, college gym, etc. this project will suggest the best places to open a food court in different neighborhoods.\n"
   ]
  },
  {
   "cell_type": "markdown",
   "metadata": {},
   "source": [
    "# Data\n",
    "New York City has a total of 5 boroughs and 306 neighborhoods. In order to segement the neighborhoods and explore them, we will essentially need a dataset that contains the 5 boroughs and the neighborhoods that exist in each borough as well as the the latitude and logitude coordinates of each neighborhood. This dataset exists for free on the web here- https://geo.nyu.edu/catalog/nyu_2451_34572\n",
    "We will then use Foursquare to get the college plases location. College & University ID for foursquare is: 4d4b7105d754a06372d81259"
   ]
  },
  {
   "cell_type": "code",
   "execution_count": null,
   "metadata": {},
   "outputs": [],
   "source": []
  }
 ],
 "metadata": {
  "kernelspec": {
   "display_name": "Python 3",
   "language": "python",
   "name": "python3"
  },
  "language_info": {
   "codemirror_mode": {
    "name": "ipython",
    "version": 3
   },
   "file_extension": ".py",
   "mimetype": "text/x-python",
   "name": "python",
   "nbconvert_exporter": "python",
   "pygments_lexer": "ipython3",
   "version": "3.6.6"
  }
 },
 "nbformat": 4,
 "nbformat_minor": 2
}
